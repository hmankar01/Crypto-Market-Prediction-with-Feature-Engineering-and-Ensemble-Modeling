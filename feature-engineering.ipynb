{
 "cells": [
  {
   "cell_type": "code",
   "execution_count": 1,
   "id": "8ce4483d",
   "metadata": {
    "_cell_guid": "d2e7ee87-edf2-4ac0-93e9-211292568574",
    "_uuid": "25b2c5aa-5519-4bb0-a704-f6f65c579c3b",
    "collapsed": false,
    "execution": {
     "iopub.execute_input": "2025-07-17T00:19:42.437573Z",
     "iopub.status.busy": "2025-07-17T00:19:42.437189Z",
     "iopub.status.idle": "2025-07-17T00:20:51.145043Z",
     "shell.execute_reply": "2025-07-17T00:20:51.144139Z"
    },
    "jupyter": {
     "outputs_hidden": false
    },
    "papermill": {
     "duration": 68.718776,
     "end_time": "2025-07-17T00:20:51.152506",
     "exception": false,
     "start_time": "2025-07-17T00:19:42.433730",
     "status": "completed"
    },
    "tags": []
   },
   "outputs": [
    {
     "name": "stdout",
     "output_type": "stream",
     "text": [
      "Loading and preparing data...\n",
      "Applying feature engineering...\n",
      "Saving X with shape (525886, 802) to /kaggle/working/X_engineered.parquet\n",
      "Saving y with shape (525886,) to /kaggle/working/y_engineered.parquet\n",
      "Feature engineering complete and files saved.\n"
     ]
    }
   ],
   "source": [
    "import pandas as pd\n",
    "import numpy as np\n",
    "import gc\n",
    "\n",
    "# --- 1. Configuration ---\n",
    "class Config:\n",
    "    DATA_PATH_TRAIN = '/kaggle/input/drw-crypto-market-prediction/train.parquet'\n",
    "    # Define output paths for the engineered data\n",
    "    OUTPUT_X_PATH = '/kaggle/working/X_engineered.parquet'\n",
    "    OUTPUT_Y_PATH = '/kaggle/working/y_engineered.parquet'\n",
    "\n",
    "# --- 2. Feature Engineering Function ---\n",
    "def feature_engineer(df):\n",
    "    \"\"\"Applies all feature engineering steps to the dataframe.\"\"\"\n",
    "    print(\"Applying feature engineering...\")\n",
    "    x_cols = [col for col in df.columns if col.startswith('X_')]\n",
    "    epsilon = 1e-10\n",
    "\n",
    "    # Imbalances, Spreads, Sizes, Proxies, Logs, and basic interactions\n",
    "    df['order_book_imbalance'] = (df['bid_qty'] - df['ask_qty']) / (df['bid_qty'] + df['ask_qty'] + epsilon)\n",
    "    df['trade_imbalance'] = (df['buy_qty'] - df['sell_qty']) / (df['buy_qty'] + df['sell_qty'] + epsilon)\n",
    "    df['quantity_spread'] = df['ask_qty'] - df['bid_qty']\n",
    "    df['avg_trade_size'] = df['volume'] / (df['buy_qty'] + df['sell_qty'] + epsilon)\n",
    "    df['wap_proxy'] = (df['bid_qty'] - df['ask_qty']) / (df['bid_qty'] + df['ask_qty'] + epsilon)\n",
    "    df['log_volume'] = np.log1p(df['volume'])\n",
    "    df['log_ask_qty'] = np.log1p(df['ask_qty'])\n",
    "    df['log_bid_qty'] = np.log1p(df['bid_qty'])\n",
    "    df['imbalance_times_volume'] = df['order_book_imbalance'] * df['volume']\n",
    "\n",
    "    # X-feature statistics\n",
    "    df['X_mean'] = df[x_cols].mean(axis=1)\n",
    "    df['X_std'] = df[x_cols].std(axis=1)\n",
    "    df['X_skew'] = df[x_cols].skew(axis=1)\n",
    "    df['X_median'] = df[x_cols].median(axis=1)\n",
    "    df['X_kurtosis'] = df[x_cols].kurtosis(axis=1)\n",
    "\n",
    "    # Advanced ratios and interactions\n",
    "    df['total_depth'] = df['bid_qty'] + df['ask_qty']\n",
    "    df['activity_intensity'] = df['volume'] / (df['total_depth'] + epsilon)\n",
    "    df['imbalance_delta'] = df['trade_imbalance'] - df['order_book_imbalance']\n",
    "\n",
    "    # Fill any potential NaNs created by division by zero\n",
    "    df.fillna(0, inplace=True)\n",
    "    return df\n",
    "\n",
    "# --- Main Execution ---\n",
    "if __name__ == '__main__':\n",
    "    print(\"Loading and preparing data...\")\n",
    "    train_df = pd.read_parquet(Config.DATA_PATH_TRAIN)\n",
    "    \n",
    "    train_df = feature_engineer(train_df)\n",
    "    \n",
    "    # Define features by excluding only the 'label' column\n",
    "    features = [col for col in train_df.columns if col != 'label']\n",
    "    X = train_df[features].astype(np.float32)\n",
    "    \n",
    "    # Use 'label' as the target column\n",
    "    y = train_df['label'].astype(np.float32)\n",
    "\n",
    "    print(f\"Saving X with shape {X.shape} to {Config.OUTPUT_X_PATH}\")\n",
    "    X.to_parquet(Config.OUTPUT_X_PATH)\n",
    "    \n",
    "    print(f\"Saving y with shape {y.shape} to {Config.OUTPUT_Y_PATH}\")\n",
    "    y.to_frame().to_parquet(Config.OUTPUT_Y_PATH)\n",
    "    \n",
    "    print(\"Feature engineering complete and files saved.\")\n",
    "    del train_df, X, y\n",
    "    gc.collect()"
   ]
  },
  {
   "cell_type": "code",
   "execution_count": null,
   "id": "d9890e9e",
   "metadata": {
    "papermill": {
     "duration": 0.001375,
     "end_time": "2025-07-17T00:20:51.157048",
     "exception": false,
     "start_time": "2025-07-17T00:20:51.155673",
     "status": "completed"
    },
    "tags": []
   },
   "outputs": [],
   "source": []
  }
 ],
 "metadata": {
  "kaggle": {
   "accelerator": "none",
   "dataSources": [
    {
     "databundleVersionId": 12993472,
     "sourceId": 96164,
     "sourceType": "competition"
    }
   ],
   "dockerImageVersionId": 31089,
   "isGpuEnabled": false,
   "isInternetEnabled": true,
   "language": "python",
   "sourceType": "notebook"
  },
  "kernelspec": {
   "display_name": "Python 3",
   "language": "python",
   "name": "python3"
  },
  "language_info": {
   "codemirror_mode": {
    "name": "ipython",
    "version": 3
   },
   "file_extension": ".py",
   "mimetype": "text/x-python",
   "name": "python",
   "nbconvert_exporter": "python",
   "pygments_lexer": "ipython3",
   "version": "3.11.13"
  },
  "papermill": {
   "default_parameters": {},
   "duration": 74.443971,
   "end_time": "2025-07-17T00:20:51.980878",
   "environment_variables": {},
   "exception": null,
   "input_path": "__notebook__.ipynb",
   "output_path": "__notebook__.ipynb",
   "parameters": {},
   "start_time": "2025-07-17T00:19:37.536907",
   "version": "2.6.0"
  }
 },
 "nbformat": 4,
 "nbformat_minor": 5
}
